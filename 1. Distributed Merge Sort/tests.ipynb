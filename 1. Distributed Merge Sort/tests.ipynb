{
 "cells": [
  {
   "cell_type": "code",
   "execution_count": 36,
   "metadata": {},
   "outputs": [],
   "source": [
    "import simpy\n",
    "env = simpy.Environment()"
   ]
  },
  {
   "cell_type": "code",
   "execution_count": 20,
   "metadata": {},
   "outputs": [
    {
     "name": "stdout",
     "output_type": "stream",
     "text": [
      "0\n",
      "3\n",
      "6\n",
      "9\n",
      "12\n"
     ]
    }
   ],
   "source": [
    "#definimos una funcion a llamar cuando ocurre un evento\n",
    "def contador(env):\n",
    "    while True: #en un ciclo infinto\n",
    "        print(env.now) #imprime el 'tiempo' actual de la simulacion\n",
    "        yield env.timeout(3) #espera una unidad de 'tiempo'\n",
    "\n",
    "\n",
    "env.process(contador(env)) #agregamos un proceso a la simulacion\n",
    "env.run(until=15) #ejecutamos la simulacion por 5 pasos"
   ]
  },
  {
   "cell_type": "code",
   "execution_count": 21,
   "metadata": {},
   "outputs": [
    {
     "name": "stdout",
     "output_type": "stream",
     "text": [
      "impares: 1\n",
      "pares: 2\n",
      "impares: 3\n",
      "pares: 4\n",
      "impares: 5\n",
      "pares: 6\n",
      "impares: 7\n",
      "pares: 8\n",
      "impares: 9\n"
     ]
    }
   ],
   "source": [
    "#definimos una funcion a llamar cuando ocurre un evento\n",
    "def contador(env, nombre, inicio):\n",
    "    yield env.timeout(inicio) #espera un numero de pasos dado\n",
    "    while True:\n",
    "        print(f\"{nombre}: {env.now}\") #imprime su nombre y el 'tiempo' actual\n",
    "        yield env.timeout(2) #espera dos pasos de la simulacion\n",
    "\n",
    "env = simpy.Environment() #inicializamos el env de simulacion\n",
    "env.process(contador(env, \"impares\", 1)) #agregamos un proceso a la simulacion\n",
    "env.process(contador(env, \"pares\", 2)) #agregamos otro proceso a la simulacion\n",
    "env.run(until=10) #ejecutamos la simulacion por 6 pasos"
   ]
  },
  {
   "cell_type": "code",
   "execution_count": 24,
   "metadata": {},
   "outputs": [
    {
     "name": "stdout",
     "output_type": "stream",
     "text": [
      "inicia primer proceso\n",
      "0\n",
      "1\n",
      "2\n",
      "inicia segundo proceso\n",
      "3\n",
      "4\n",
      "5\n"
     ]
    }
   ],
   "source": [
    "#definimos el primer proceso: un contador normal\n",
    "def primero(env):\n",
    "    print(\"inicia primer proceso\")\n",
    "    for i in range(3):\n",
    "        print(env.now)\n",
    "        yield env.timeout(1)\n",
    "\n",
    "#definimos el primer proceso: un contador modificado\n",
    "def segundo(env, anterior):\n",
    "    yield anterior #espera a que termine el proceso 'anterior'\n",
    "    print(\"inicia segundo proceso\")\n",
    "    while True:\n",
    "        print(env.now)\n",
    "        yield env.timeout(1)\n",
    "\n",
    "\n",
    "primer_proceso = env.process(primero(env))\n",
    "env.process(segundo(env, primer_proceso))\n",
    "\n",
    "env.run(until=6) #ejecutamos la simulacion por 6 pasos"
   ]
  },
  {
   "cell_type": "code",
   "execution_count": 26,
   "metadata": {},
   "outputs": [
    {
     "name": "stdout",
     "output_type": "stream",
     "text": [
      "par: 0\n",
      "impar: 1\n",
      "par: 2\n",
      "impar: 3\n",
      "par: 4\n",
      "impar: 5\n"
     ]
    }
   ],
   "source": [
    "#definimos el proceso principal, que ejecuta procesos secundarios\n",
    "def principal(env):\n",
    "    while True:\n",
    "        yield env.process(secundario(\"par\", env))\n",
    "        yield env.process(secundario(\"impar\", env))\n",
    "\n",
    "#definimos el proceso secundario: un contador de un solo paso (con 'nombre')\n",
    "def secundario(nombre, env):\n",
    "    print(f\"{nombre}: {env.now}\")\n",
    "    yield env.timeout(1)\n",
    "\n",
    "\n",
    "#agregamos el proceso principal a la simulacion\n",
    "primer_proceso = env.process(principal(env))\n",
    "\n",
    "env.run(until=6) #ejecutamos la simulacion por 6 pasos"
   ]
  },
  {
   "cell_type": "code",
   "execution_count": 34,
   "metadata": {},
   "outputs": [
    {
     "name": "stdout",
     "output_type": "stream",
     "text": [
      "0\n",
      "1\n",
      "2\n",
      "3\n",
      "4\n",
      "proceso interrumpido\n"
     ]
    }
   ],
   "source": [
    "#definimos el proceso que sera interrumpido\n",
    "def primero(env):\n",
    "    try: #las interrupciones se manejan como excepciones (en un bloque try-except)\n",
    "        while True: #definimos un contador normal\n",
    "            print(env.now)\n",
    "            yield env.timeout(1)\n",
    "    except simpy.Interrupt: #si el proceso es interrumpido, lo reporta y termina\n",
    "        print(\"proceso interrumpido\")\n",
    "\n",
    "#definimos el proceso que realizara la interrupcion\n",
    "def segundo(env, otro):\n",
    "    yield env.timeout(5)\n",
    "    otro.interrupt()\n",
    "\n",
    "\n",
    "primer_proceso = env.process(primero(env))\n",
    "env.process(segundo(env, primer_proceso))\n",
    "env.run()"
   ]
  },
  {
   "cell_type": "code",
   "execution_count": null,
   "metadata": {},
   "outputs": [],
   "source": [
    "#importamos el modulo de SimPy\n",
    "import simpy\n",
    "\n",
    "#definimos un proceso de contador que utiliza un recurso en cada iteracion\n",
    "def contador(env, nombre, recurso):\n",
    "    while True:\n",
    "        recurso_utilizado = recurso.request() #solicita el recurso\n",
    "        yield recurso_utilizado #espera a obtener el recurso\n",
    "        yield env.timeout(1)\n",
    "        print(f\"{nombre}: {env.now}\")\n",
    "        recurso.release(recurso_utilizado) #libera el recurso para que otro proceso pueda utilizarlo\n",
    "\n",
    "env = simpy.Environment() #inicializamos el env de simulacion\n",
    "recurso = simpy.Resource(env, capacity=2) #creamos un recurso, indicando la capacidad\n",
    "\n",
    "for i in range(4): #creamos un conjunto de procesos y agregamos cada uno a la simulacion\n",
    "    env.process(contador(env, 'Proceso %d' % i, recurso))\n",
    "\n",
    "env.run(until=6) #ejecutamos la simulacion por 6 pasos"
   ]
  },
  {
   "cell_type": "code",
   "execution_count": null,
   "metadata": {},
   "outputs": [],
   "source": [
    "#importamos el modulo de SimPy\n",
    "import simpy\n",
    "\n",
    "#definimos un proceso de contador que utiliza un recurso en cada iteracion\n",
    "def contador(env, nombre, recurso):\n",
    "    while True:\n",
    "        with recurso.request() as recurso_utilizado: #solicita el recurso\n",
    "            yield recurso_utilizado #espera a obtener el recurso\n",
    "            yield env.timeout(1)\n",
    "            print(f\"{nombre}: {env.now}\")\n",
    "            #el recurso es liberado automaticamente al finalizar el bloque with\n",
    "\n",
    "env = simpy.Environment() #inicializamos el env de simulacion\n",
    "recurso = simpy.Resource(env, capacity=2) #creamos un recurso, indicando la capacidad\n",
    "\n",
    "\n",
    "for i in range(4): #creamos un conjunto de procesos y agregamos cada uno a la simulacion\n",
    "    env.process(contador(env, 'Proceso %d' % i, recurso))\n",
    "\n",
    "env.run(until=6) #ejecutamos la simulacion por 6 pasos"
   ]
  },
  {
   "cell_type": "code",
   "execution_count": null,
   "metadata": {},
   "outputs": [],
   "source": [
    "#importamos el modulo de SimPy\n",
    "import simpy\n",
    "\n",
    "#definimos una clase\n",
    "class Clase:\n",
    "    #definicion del constructor de la clase\n",
    "    def __init__(self, env): #se recibe el env de SimPy como parametro\n",
    "        self.env = env\n",
    "        #en el constructor se indica la funcion a ejecutar por defecto\n",
    "        self.action = env.process(self.contador())\n",
    "    \n",
    "    #definimos un contador como funcion de la clase\n",
    "    def contador(self):\n",
    "        try: #agregamos un bloque try para poder interrumpir la funcion\n",
    "            while True:\n",
    "                print(self.env.now)\n",
    "                yield self.env.timeout(1)\n",
    "        except simpy.Interrupt: #si el proceso es interrumpido, lo reporta y termina\n",
    "            print(\"proceso interrumpido\")\n",
    "\n",
    "\n",
    "#definimos el proceso que realizara la interrupcion\n",
    "def interruptor(env, otro):\n",
    "    yield env.timeout(5)\n",
    "    otro.action.interrupt() #se debe interrumpir al accion, no el objeto\n",
    "\n",
    "env = simpy.Environment() #inicializamos el env de simulacion\n",
    "\n",
    "#creamos un ejemplar de la clase\n",
    "primer_proceso = Clase(env)\n",
    "'''Nota: como la instruccion process() esta en el constructor de la clase,\n",
    " no hace falta iniciar el proceso, sino que basta con construir el ejemplar '''\n",
    "\n",
    "#agregamos el proceso interruptor a la simulacion, pasando la referencia al ejemplar\n",
    "env.process(interruptor(env, primer_proceso))\n",
    "\n",
    "#ejecutamos la simulacion hasta que termine \n",
    "env.run() #(sin limite de tiempo definido por until)"
   ]
  },
  {
   "cell_type": "code",
   "execution_count": null,
   "metadata": {},
   "outputs": [],
   "source": [
    "import simpy\n",
    "\n",
    "def car(env):\n",
    "    while True:\n",
    "        print('Start parking at %d' % env.now)\n",
    "        parking_duration = 5\n",
    "        yield env.timeout(parking_duration)\n",
    "\n",
    "        print('Start driving at %d' % env.now)\n",
    "        trip_duration = 2\n",
    "        yield env.timeout(trip_duration)\n",
    "\n",
    "# Create environment\n",
    "env = simpy.Environment()\n",
    "\n",
    "# Start process\n",
    "env.process(car(env))\n",
    "\n",
    "# Run simulation for 20 time units\n",
    "env.run(until=20)\n"
   ]
  }
 ],
 "metadata": {
  "kernelspec": {
   "display_name": "base",
   "language": "python",
   "name": "python3"
  },
  "language_info": {
   "codemirror_mode": {
    "name": "ipython",
    "version": 3
   },
   "file_extension": ".py",
   "mimetype": "text/x-python",
   "name": "python",
   "nbconvert_exporter": "python",
   "pygments_lexer": "ipython3",
   "version": "3.12.7"
  }
 },
 "nbformat": 4,
 "nbformat_minor": 2
}
