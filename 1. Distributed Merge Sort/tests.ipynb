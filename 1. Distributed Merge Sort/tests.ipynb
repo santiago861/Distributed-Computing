{
 "cells": [
  {
   "cell_type": "code",
   "execution_count": 41,
   "metadata": {},
   "outputs": [
    {
     "name": "stdout",
     "output_type": "stream",
     "text": [
      "0\n",
      "1\n",
      "2\n",
      "3\n",
      "4\n"
     ]
    },
    {
     "data": {
      "text/plain": [
       "\"Nota: al alcanzar el tiempo limite de la simulacion (definido por 'until'),\\n se detienen todos los procesos pendientes, aunque esten en un ciclo infinto\""
      ]
     },
     "execution_count": 41,
     "metadata": {},
     "output_type": "execute_result"
    }
   ],
   "source": [
    "#importamos el modulo de SimPy\n",
    "import simpy\n",
    "\n",
    "#definimos una funcion a llamar cuando ocurre un evento\n",
    "def contador(ambiente):\n",
    "    while True: #en un ciclo infinto\n",
    "        print(ambiente.now) #imprime el 'tiempo' actual de la simulacion\n",
    "        yield ambiente.timeout(1) #espera una unidad de 'tiempo'\n",
    "\n",
    "ambiente = simpy.Environment() #inicializamos el ambiente de simulacion\n",
    "ambiente.process(contador(ambiente)) #agregamos un proceso a la simulacion\n",
    "ambiente.run(until=5) #ejecutamos la simulacion por 5 pasos\n",
    "'''Nota: al alcanzar el tiempo limite de la simulacion (definido por 'until'),\n",
    " se detienen todos los procesos pendientes, aunque esten en un ciclo infinto'''"
   ]
  },
  {
   "cell_type": "code",
   "execution_count": 42,
   "metadata": {},
   "outputs": [
    {
     "name": "stdout",
     "output_type": "stream",
     "text": [
      "impares: 1\n",
      "pares: 2\n",
      "impares: 3\n",
      "pares: 4\n",
      "impares: 5\n"
     ]
    }
   ],
   "source": [
    "#importamos el modulo de SimPy\n",
    "import simpy\n",
    "\n",
    "#definimos una funcion a llamar cuando ocurre un evento\n",
    "def contador(ambiente, nombre, inicio):\n",
    "    yield ambiente.timeout(inicio) #espera un numero de pasos dado\n",
    "    while True:\n",
    "        print(f\"{nombre}: {ambiente.now}\") #imprime su nombre y el 'tiempo' actual\n",
    "        yield ambiente.timeout(2) #espera dos pasos de la simulacion\n",
    "\n",
    "ambiente = simpy.Environment() #inicializamos el ambiente de simulacion\n",
    "ambiente.process(contador(ambiente, \"impares\", 1)) #agregamos un proceso a la simulacion\n",
    "ambiente.process(contador(ambiente, \"pares\", 2)) #agregamos otro proceso a la simulacion\n",
    "ambiente.run(until=6) #ejecutamos la simulacion por 6 pasos"
   ]
  },
  {
   "cell_type": "code",
   "execution_count": 43,
   "metadata": {},
   "outputs": [
    {
     "name": "stdout",
     "output_type": "stream",
     "text": [
      "inicia primer proceso\n",
      "0\n",
      "1\n",
      "2\n",
      "inicia segundo proceso\n",
      "3\n",
      "4\n",
      "5\n"
     ]
    }
   ],
   "source": [
    "#importamos el modulo de SimPy\n",
    "import simpy\n",
    "\n",
    "#definimos el primer proceso: un contador normal\n",
    "def primero(ambiente):\n",
    "    print(\"inicia primer proceso\")\n",
    "    for i in range(3):\n",
    "        print(ambiente.now)\n",
    "        yield ambiente.timeout(1)\n",
    "\n",
    "#definimos el primer proceso: un contador modificado\n",
    "def segundo(ambiente, anterior):\n",
    "    yield anterior #espera a que termine el proceso 'anterior'\n",
    "    print(\"inicia segundo proceso\")\n",
    "    while True:\n",
    "        print(ambiente.now)\n",
    "        yield ambiente.timeout(1)\n",
    "\n",
    "ambiente = simpy.Environment() #inicializamos el ambiente de simulacion\n",
    "\n",
    "#agregamos el primer proceso a la simulacion\n",
    "primer_proceso = ambiente.process(primero(ambiente))\n",
    "\n",
    "#agregamos el segundo a la simulacion, pasando la referencia al primero\n",
    "ambiente.process(segundo(ambiente, primer_proceso))\n",
    "\n",
    "ambiente.run(until=6) #ejecutamos la simulacion por 6 pasos"
   ]
  },
  {
   "cell_type": "code",
   "execution_count": 44,
   "metadata": {},
   "outputs": [
    {
     "name": "stdout",
     "output_type": "stream",
     "text": [
      "par: 0\n",
      "impar: 1\n",
      "par: 2\n",
      "impar: 3\n",
      "par: 4\n",
      "impar: 5\n"
     ]
    }
   ],
   "source": [
    "#importamos el modulo de SimPy\n",
    "import simpy\n",
    "\n",
    "#definimos el proceso principal, que ejecuta procesos secundarios\n",
    "def principal(ambiente):\n",
    "    while True:\n",
    "        yield ambiente.process(secundario(\"par\", ambiente))\n",
    "        yield ambiente.process(secundario(\"impar\", ambiente))\n",
    "\n",
    "#definimos el proceso secundario: un contador de un solo paso (con 'nombre')\n",
    "def secundario(nombre, ambiente):\n",
    "    print(f\"{nombre}: {ambiente.now}\")\n",
    "    yield ambiente.timeout(1)\n",
    "\n",
    "ambiente = simpy.Environment() #inicializamos el ambiente de simulacion\n",
    "\n",
    "#agregamos el proceso principal a la simulacion\n",
    "primer_proceso = ambiente.process(principal(ambiente))\n",
    "\n",
    "ambiente.run(until=6) #ejecutamos la simulacion por 6 pasos"
   ]
  },
  {
   "cell_type": "code",
   "execution_count": 45,
   "metadata": {},
   "outputs": [
    {
     "name": "stdout",
     "output_type": "stream",
     "text": [
      "0\n",
      "1\n",
      "2\n",
      "3\n",
      "4\n",
      "proceso interrumpido\n"
     ]
    }
   ],
   "source": [
    "#importamos el modulo de SimPy\n",
    "import simpy\n",
    "\n",
    "#definimos el proceso que sera interrumpido\n",
    "def primero(ambiente):\n",
    "    try: #las interrupciones se manejan como excepciones (en un bloque try-except)\n",
    "        while True: #definimos un contador normal\n",
    "            print(ambiente.now)\n",
    "            yield ambiente.timeout(1)\n",
    "    except simpy.Interrupt: #si el proceso es interrumpido, lo reporta y termina\n",
    "        print(\"proceso interrumpido\")\n",
    "\n",
    "#definimos el proceso que realizara la interrupcion\n",
    "def segundo(ambiente, otro):\n",
    "    yield ambiente.timeout(5)\n",
    "    otro.interrupt()\n",
    "\n",
    "ambiente = simpy.Environment() #inicializamos el ambiente de simulacion\n",
    "\n",
    "#agregamos el primer proceso a la simulacion\n",
    "primer_proceso = ambiente.process(primero(ambiente))\n",
    "\n",
    "#agregamos el segundo a la simulacion, pasando la referencia al primero\n",
    "ambiente.process(segundo(ambiente, primer_proceso))\n",
    "\n",
    "#ejecutamos la simulacion hasta que termine \n",
    "ambiente.run() #(sin limite de tiempo definido por until)"
   ]
  },
  {
   "cell_type": "code",
   "execution_count": 46,
   "metadata": {},
   "outputs": [
    {
     "name": "stdout",
     "output_type": "stream",
     "text": [
      "Proceso 0: 1\n",
      "Proceso 1: 1\n",
      "Proceso 2: 2\n",
      "Proceso 3: 2\n",
      "Proceso 0: 3\n",
      "Proceso 1: 3\n",
      "Proceso 2: 4\n",
      "Proceso 3: 4\n",
      "Proceso 0: 5\n",
      "Proceso 1: 5\n"
     ]
    }
   ],
   "source": [
    "#importamos el modulo de SimPy\n",
    "import simpy\n",
    "\n",
    "#definimos un proceso de contador que utiliza un recurso en cada iteracion\n",
    "def contador(ambiente, nombre, recurso):\n",
    "    while True:\n",
    "        recurso_utilizado = recurso.request() #solicita el recurso\n",
    "        yield recurso_utilizado #espera a obtener el recurso\n",
    "        yield ambiente.timeout(1)\n",
    "        print(f\"{nombre}: {ambiente.now}\")\n",
    "        recurso.release(recurso_utilizado) #libera el recurso para que otro proceso pueda utilizarlo\n",
    "\n",
    "ambiente = simpy.Environment() #inicializamos el ambiente de simulacion\n",
    "recurso = simpy.Resource(ambiente, capacity=2) #creamos un recurso, indicando la capacidad\n",
    "\n",
    "for i in range(4): #creamos un conjunto de procesos y agregamos cada uno a la simulacion\n",
    "    ambiente.process(contador(ambiente, 'Proceso %d' % i, recurso))\n",
    "\n",
    "ambiente.run(until=6) #ejecutamos la simulacion por 6 pasos"
   ]
  },
  {
   "cell_type": "code",
   "execution_count": 47,
   "metadata": {},
   "outputs": [
    {
     "name": "stdout",
     "output_type": "stream",
     "text": [
      "Proceso 0: 1\n",
      "Proceso 1: 1\n",
      "Proceso 2: 2\n",
      "Proceso 3: 2\n",
      "Proceso 0: 3\n",
      "Proceso 1: 3\n",
      "Proceso 2: 4\n",
      "Proceso 3: 4\n",
      "Proceso 0: 5\n",
      "Proceso 1: 5\n"
     ]
    }
   ],
   "source": [
    "#importamos el modulo de SimPy\n",
    "import simpy\n",
    "\n",
    "#definimos un proceso de contador que utiliza un recurso en cada iteracion\n",
    "def contador(ambiente, nombre, recurso):\n",
    "    while True:\n",
    "        with recurso.request() as recurso_utilizado: #solicita el recurso\n",
    "            yield recurso_utilizado #espera a obtener el recurso\n",
    "            yield ambiente.timeout(1)\n",
    "            print(f\"{nombre}: {ambiente.now}\")\n",
    "            #el recurso es liberado automaticamente al finalizar el bloque with\n",
    "\n",
    "ambiente = simpy.Environment() #inicializamos el ambiente de simulacion\n",
    "recurso = simpy.Resource(ambiente, capacity=2) #creamos un recurso, indicando la capacidad\n",
    "\n",
    "\n",
    "for i in range(4): #creamos un conjunto de procesos y agregamos cada uno a la simulacion\n",
    "    ambiente.process(contador(ambiente, 'Proceso %d' % i, recurso))\n",
    "\n",
    "ambiente.run(until=6) #ejecutamos la simulacion por 6 pasos"
   ]
  },
  {
   "cell_type": "code",
   "execution_count": 48,
   "metadata": {},
   "outputs": [
    {
     "name": "stdout",
     "output_type": "stream",
     "text": [
      "0\n",
      "1\n",
      "2\n",
      "3\n",
      "4\n",
      "proceso interrumpido\n"
     ]
    }
   ],
   "source": [
    "#importamos el modulo de SimPy\n",
    "import simpy\n",
    "\n",
    "#definimos una clase\n",
    "class Clase:\n",
    "    #definicion del constructor de la clase\n",
    "    def __init__(self, ambiente): #se recibe el ambiente de SimPy como parametro\n",
    "        self.ambiente = ambiente\n",
    "        #en el constructor se indica la funcion a ejecutar por defecto\n",
    "        self.action = ambiente.process(self.contador())\n",
    "    \n",
    "    #definimos un contador como funcion de la clase\n",
    "    def contador(self):\n",
    "        try: #agregamos un bloque try para poder interrumpir la funcion\n",
    "            while True:\n",
    "                print(self.ambiente.now)\n",
    "                yield self.ambiente.timeout(1)\n",
    "        except simpy.Interrupt: #si el proceso es interrumpido, lo reporta y termina\n",
    "            print(\"proceso interrumpido\")\n",
    "\n",
    "\n",
    "#definimos el proceso que realizara la interrupcion\n",
    "def interruptor(ambiente, otro):\n",
    "    yield ambiente.timeout(5)\n",
    "    otro.action.interrupt() #se debe interrumpir al accion, no el objeto\n",
    "\n",
    "ambiente = simpy.Environment() #inicializamos el ambiente de simulacion\n",
    "\n",
    "#creamos un ejemplar de la clase\n",
    "primer_proceso = Clase(ambiente)\n",
    "'''Nota: como la instruccion process() esta en el constructor de la clase,\n",
    " no hace falta iniciar el proceso, sino que basta con construir el ejemplar '''\n",
    "\n",
    "#agregamos el proceso interruptor a la simulacion, pasando la referencia al ejemplar\n",
    "ambiente.process(interruptor(ambiente, primer_proceso))\n",
    "\n",
    "#ejecutamos la simulacion hasta que termine \n",
    "ambiente.run() #(sin limite de tiempo definido por until)"
   ]
  },
  {
   "cell_type": "code",
   "execution_count": 50,
   "metadata": {},
   "outputs": [
    {
     "name": "stdout",
     "output_type": "stream",
     "text": [
      "inicia proceso A (duracion: 5)\n",
      "A: 0\n",
      "inicia proceso B (duracion: 3)\n",
      "B: 0\n",
      "A: 1\n",
      "B: 1\n",
      "A: 2\n",
      "B: 2\n",
      "A: 3\n",
      "termina proceso B\n",
      "inicia proceso C\n",
      "C: 3\n",
      "A: 4\n",
      "C: 4\n",
      "termina proceso A\n",
      "C: 5\n",
      "C: 6\n",
      "C: 7\n",
      "termina proceso C\n",
      "\n",
      "\n",
      "inicia proceso D (duracion: 4)\n",
      "D: 8\n",
      "inicia proceso E (duracion: 4)\n",
      "E: 8\n",
      "D: 9\n",
      "E: 9\n",
      "D: 10\n",
      "E: 10\n",
      "D: 11\n",
      "E: 11\n",
      "termina proceso D\n",
      "termina proceso E\n",
      "inicia proceso F\n",
      "F: 12\n",
      "F: 13\n",
      "F: 14\n",
      "F: 15\n",
      "F: 16\n",
      "termina proceso F\n"
     ]
    }
   ],
   "source": [
    "#importamos el modulo de SimPy\n",
    "import simpy\n",
    "import random\n",
    "\n",
    "#definimos el primer proceso: un contador con duracion aleatoria\n",
    "def contador_aleatorio(ambiente, nombre):\n",
    "    duracion = random.randint(2,5) #definimos la duracion del proceso\n",
    "    print(f\"inicia proceso {nombre} (duracion: {duracion})\") #reportamos inicio y duracion del proceso\n",
    "    for i in range(duracion):\n",
    "        print(f\"{nombre}: {ambiente.now}\")\n",
    "        yield ambiente.timeout(1)\n",
    "    print(\"termina proceso\", nombre) #reportamos fin de proceso\n",
    "\n",
    "#definimos el proceso que espera a que termine cualquiera de los anteriores\n",
    "def espera_cualquiera(ambiente, anteriorA, anteriorB):\n",
    "    yield anteriorA | anteriorB #espera a que termine cualquiera de los procesos anteriores\n",
    "    print(\"inicia proceso C\")\n",
    "    for i in range(5):\n",
    "        print(\"C:\",ambiente.now)\n",
    "        yield ambiente.timeout(1)\n",
    "    print(\"termina proceso C\")\n",
    "\n",
    "#definimos el proceso que espera a que terminen todos los anteriores\n",
    "def espera_ambos(ambiente, anteriorA, anteriorB):\n",
    "    yield anteriorA & anteriorB #espera a que termine cualquiera de los procesos anteriores\n",
    "    print(\"inicia proceso F\")\n",
    "    for i in range(5):\n",
    "        print(\"F:\",ambiente.now)\n",
    "        yield ambiente.timeout(1)\n",
    "    print(\"termina proceso F\")\n",
    "ambiente = simpy.Environment() #inicializamos el ambiente de simulacion\n",
    "\n",
    "#agregamos dos procesos a la simulacion\n",
    "procesoA = ambiente.process(contador_aleatorio(ambiente, \"A\"))\n",
    "procesoB = ambiente.process(contador_aleatorio(ambiente, \"B\"))\n",
    "\n",
    "#agregamos el proceso que espera a los otros a la simulacion\n",
    "ambiente.process(espera_cualquiera(ambiente, procesoA, procesoB))\n",
    "\n",
    "ambiente.run() #ejecutamos la simulacion hasta que todos los procesos activos terminen\n",
    "'''nota: despues de terminar la ejecucion, podemos agregar mas procesos\n",
    "y continuar con una nueva ejecucion'''\n",
    "print (\"\\n\")\n",
    "\n",
    "procesoD = ambiente.process(contador_aleatorio(ambiente, \"D\"))\n",
    "procesoE = ambiente.process(contador_aleatorio(ambiente, \"E\"))\n",
    "\n",
    "ambiente.process(espera_ambos(ambiente, procesoD, procesoE))\n",
    "\n",
    "ambiente.run() #ejecutamos la simulacion hasta que todos los procesos activos terminen"
   ]
  },
  {
   "cell_type": "code",
   "execution_count": 51,
   "metadata": {},
   "outputs": [
    {
     "name": "stdout",
     "output_type": "stream",
     "text": [
      "inicia proceso A (dato: 2)\n",
      "A: 0\n",
      "A: 1\n",
      "A: 2\n",
      "inicia proceso B (dato: 3)\n",
      "B: 3\n",
      "inicia proceso C (dato: 2)\n",
      "C: 3\n",
      "B: 4\n",
      "C: 4\n",
      "B: 5\n",
      "C: 5\n",
      "valores: 2, 3, 2\n"
     ]
    }
   ],
   "source": [
    "#importamos el modulo de SimPy\n",
    "import simpy\n",
    "import random\n",
    "\n",
    "#definimos el proceso hijo: un contador que regresa un dato aleatorio\n",
    "def hijo(ambiente, nombre):\n",
    "    dato = random.randint(2,5) #definimos el dato a regresar\n",
    "    print(f\"inicia proceso {nombre} (dato: {dato})\") #reportamos inicio y dato del proceso\n",
    "    for i in range(3): # contamos por 3 pasos\n",
    "        print(f\"{nombre}: {ambiente.now}\")\n",
    "        yield ambiente.timeout(1)\n",
    "    return dato \n",
    "\n",
    "#definimos el proceso padre: crea 2 procesos hijos, los espera y recibe sus datos\n",
    "def padre(ambiente):\n",
    "    hijoA = ambiente.process(hijo(ambiente, \"A\")) #creamos un proceso hijo\n",
    "    valorA = yield hijoA #eperamos al hijo y recibimos su valor de retorno\n",
    "    \n",
    "    hijoB = ambiente.process(hijo(ambiente, \"B\")) #creamos dos procesos hijos nuevos\n",
    "    hijoC = ambiente.process(hijo(ambiente, \"C\"))\n",
    "    valorB, valorC =(yield hijoB & hijoC).values() #esperamos a los hijos y recibimos sus valores\n",
    "    '''nota: al recibir varios valores, debemos extraerlos usando la fncion values()'''\n",
    "    \n",
    "    print(f\"valores: {valorA}, {valorB}, {valorC}\") #imprimimos los valores recibidos\n",
    "    \n",
    "ambiente = simpy.Environment() #inicializamos el ambiente de simulacion\n",
    "\n",
    "#agregamos el padrea la simulacion\n",
    "ambiente.process(padre(ambiente))\n",
    "\n",
    "ambiente.run() #ejecutamos la simulacion hasta que todos los procesos activos terminen"
   ]
  }
 ],
 "metadata": {
  "kernelspec": {
   "display_name": "base",
   "language": "python",
   "name": "python3"
  },
  "language_info": {
   "codemirror_mode": {
    "name": "ipython",
    "version": 3
   },
   "file_extension": ".py",
   "mimetype": "text/x-python",
   "name": "python",
   "nbconvert_exporter": "python",
   "pygments_lexer": "ipython3",
   "version": "3.12.7"
  }
 },
 "nbformat": 4,
 "nbformat_minor": 2
}
