{
 "cells": [
  {
   "cell_type": "code",
   "execution_count": 12,
   "metadata": {},
   "outputs": [],
   "source": [
    "import simpy"
   ]
  },
  {
   "cell_type": "code",
   "execution_count": 13,
   "metadata": {},
   "outputs": [],
   "source": [
    "# env = simpy.Environment()\n",
    "\n",
    "# def car(env):\n",
    "#     while True:\n",
    "#         print('Start parking at %d' % env.now)\n",
    "#         yield env.timeout(5)\n",
    "\n",
    "#         print('Start driving at %d' % env.now)\n",
    "#         yield env.timeout(2)\n",
    "\n",
    "# env.process(car(env))\n",
    "# env.run(until=15)"
   ]
  },
  {
   "cell_type": "code",
   "execution_count": 14,
   "metadata": {},
   "outputs": [],
   "source": [
    "# class Car(object):\n",
    "#     def __init__(self, env):\n",
    "#         self.env = env\n",
    "#         # Start the run process everytime an instance is created.\n",
    "#         self.action = env.process(self.run())\n",
    "\n",
    "#     def run(self):\n",
    "#         while True:\n",
    "#             print('Start parking and charging at %d' % self.env.now)\n",
    "#             charge_duration = 5\n",
    "#             # We yield the process that process() returns\n",
    "#             # to wait for it to finish\n",
    "#             yield self.env.process(self.charge(charge_duration))\n",
    "\n",
    "#             # The charge process has finished and\n",
    "#             # we can start driving again.\n",
    "#             print('Start driving at %d' % self.env.now)\n",
    "#             trip_duration = 2\n",
    "#             yield self.env.timeout(trip_duration)\n",
    "\n",
    "#     def charge(self, duration):\n",
    "#         yield self.env.timeout(duration)"
   ]
  },
  {
   "cell_type": "code",
   "execution_count": 15,
   "metadata": {},
   "outputs": [],
   "source": [
    "# env = simpy.Environment()\n",
    "# car = Car(env)\n",
    "# env.run(until=15)"
   ]
  },
  {
   "cell_type": "code",
   "execution_count": 19,
   "metadata": {},
   "outputs": [],
   "source": [
    "def driver(env, car):\n",
    "    yield env.timeout(3)\n",
    "    car.action.interrupt()\n",
    "\n",
    "class Car(object):\n",
    "    def __init__(self, env):\n",
    "        self.env = env\n",
    "        self.action = env.process(self.run())\n",
    "\n",
    "    def run(self):\n",
    "        while True:\n",
    "            print('Start parking and charging at %d' % self.env.now)\n",
    "            charge_duration = 5\n",
    "            # We may get interrupted while charging the battery\n",
    "            try:\n",
    "                yield self.env.process(self.charge(charge_duration))\n",
    "            except simpy.Interrupt:\n",
    "                # When we received an interrupt, we stop charging and\n",
    "                # switch to the \"driving\" state\n",
    "                print('Was interrupted. Hope, the battery is full enough ...')\n",
    "\n",
    "            print('Start driving at %d' % self.env.now)\n",
    "            trip_duration = 2\n",
    "            yield self.env.timeout(trip_duration)\n",
    "\n",
    "    def charge(self, duration):\n",
    "        yield self.env.timeout(duration)"
   ]
  },
  {
   "cell_type": "code",
   "execution_count": 20,
   "metadata": {},
   "outputs": [
    {
     "name": "stdout",
     "output_type": "stream",
     "text": [
      "Start parking and charging at 0\n",
      "Was interrupted. Hope, the battery is full enough ...\n",
      "Start driving at 3\n",
      "Start parking and charging at 5\n",
      "Start driving at 10\n",
      "Start parking and charging at 12\n"
     ]
    }
   ],
   "source": [
    "env = simpy.Environment()\n",
    "car = Car(env)\n",
    "env.process(driver(env, car))\n",
    "env.run(until=15)"
   ]
  }
 ],
 "metadata": {
  "kernelspec": {
   "display_name": "base",
   "language": "python",
   "name": "python3"
  },
  "language_info": {
   "codemirror_mode": {
    "name": "ipython",
    "version": 3
   },
   "file_extension": ".py",
   "mimetype": "text/x-python",
   "name": "python",
   "nbconvert_exporter": "python",
   "pygments_lexer": "ipython3",
   "version": "3.12.7"
  }
 },
 "nbformat": 4,
 "nbformat_minor": 2
}
